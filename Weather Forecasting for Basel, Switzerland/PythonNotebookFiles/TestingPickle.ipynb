{
 "cells": [
  {
   "cell_type": "code",
   "execution_count": 1,
   "metadata": {
    "collapsed": true
   },
   "outputs": [],
   "source": [
    "import pandas as pd\n",
    "import numpy as np\n",
    "import string\n",
    "import csv   \n",
    "from sklearn.linear_model import LinearRegression\n",
    "from sklearn.ensemble import RandomForestRegressor\n",
    "from xgboost import XGBClassifier\n",
    "from sklearn.metrics import accuracy_score\n",
    "from sklearn.model_selection import cross_val_score\n",
    "from sklearn.metrics import mean_squared_error\n",
    "from sklearn.model_selection import train_test_split\n",
    "from sklearn import svm\n",
    "from sklearn.svm import LinearSVC\n",
    "import lightgbm as lgbm\n",
    "from sklearn.svm import SVR\n",
    "import seaborn as sns\n",
    "import matplotlib.pyplot as plt\n",
    "import pickle\n",
    "        "
   ]
  },
  {
   "cell_type": "code",
   "execution_count": 4,
   "metadata": {
    "collapsed": true
   },
   "outputs": [],
   "source": [
    "class TestingPickle:\n",
    "    \n",
    "    #Testing the pickle file using it's constructor\n",
    "    def __init__(self):\n",
    "        \n",
    "        feFileName = '../PickleFiles/FeatureEngineering.pkl'\n",
    "        test1 = pickle.load(open(feFileName, mode='rb'))\n",
    "\n",
    "        linearModel = pickle.load(open(\"../PickleFiles/linearModel.pkl\",'rb'))\n",
    "        randomModel = pickle.load(open(\"../PickleFiles/randomModel.pkl\",'rb'))\n",
    "        stackedModel = pickle.load(open(\"../PickleFiles/stackModel.pkl\",'rb'))\n",
    "\n",
    "\n",
    "        test =  test1.drop('temp_mean', 1)\n",
    "        tempDataFrame = pd.DataFrame()\n",
    "        tempDataFrame['linearModel'] = linearModel.predict(test)\n",
    "        tempDataFrame['randomModel'] = randomModel.predict(test)\n",
    "        p = stackedModel.predict(tempDataFrame)\n",
    "\n",
    "        print('Stacking using Linear Regression as secondary model')\n",
    "        print('Final RMSE Score :', np.sqrt(mean_squared_error(test1['temp_mean'], p)))"
   ]
  },
  {
   "cell_type": "code",
   "execution_count": 5,
   "metadata": {},
   "outputs": [
    {
     "name": "stdout",
     "output_type": "stream",
     "text": [
      "Stacking using Linear Regression as secondary model\n",
      "Final RMSE Score : 0.502567930276\n"
     ]
    }
   ],
   "source": [
    "class StartClass:\n",
    "    \n",
    "    if __name__ == '__main__':\n",
    "        #Testing the various pickle models and stacking them together to get the final answer\n",
    "        #Just need to import all the necessary libraries\n",
    "        #Load the Pickler Class\n",
    "        #Next load the TestingPickle Class\n",
    "        testing_pickle = TestingPickle()\n"
   ]
  }
 ],
 "metadata": {
  "kernelspec": {
   "display_name": "Python 3",
   "language": "python",
   "name": "python3"
  },
  "language_info": {
   "codemirror_mode": {
    "name": "ipython",
    "version": 3
   },
   "file_extension": ".py",
   "mimetype": "text/x-python",
   "name": "python",
   "nbconvert_exporter": "python",
   "pygments_lexer": "ipython3",
   "version": "3.6.1"
  }
 },
 "nbformat": 4,
 "nbformat_minor": 2
}
